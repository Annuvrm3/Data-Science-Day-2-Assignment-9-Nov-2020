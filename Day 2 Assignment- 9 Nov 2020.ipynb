{
 "cells": [
  {
   "cell_type": "code",
   "execution_count": null,
   "metadata": {},
   "outputs": [],
   "source": [
    "#Q1>\n",
    "\n",
    "l=[]\n",
    "for i in range(0,10):\n",
    "    ele=int(input())\n",
    "    if(ele % 2==0):\n",
    "        l.append(ele)\n",
    "print(l)"
   ]
  },
  {
   "cell_type": "code",
   "execution_count": null,
   "metadata": {},
   "outputs": [],
   "source": [
    "#Q2>\n",
    "\n",
    "lst=[i for i in 'LIST COMPREHENSION']\n",
    "print(lst)"
   ]
  },
  {
   "cell_type": "code",
   "execution_count": null,
   "metadata": {},
   "outputs": [],
   "source": [
    "#Q3>\n",
    "\n",
    "n= int(input())\n",
    "dic={}\n",
    "for i in range(1,n+1):\n",
    "    dic.update({i:i*i})\n",
    "print(dic)\n",
    "    "
   ]
  },
  {
   "cell_type": "code",
   "execution_count": null,
   "metadata": {},
   "outputs": [],
   "source": [
    "#Q4>\n",
    "\n",
    "import math\n",
    "n=int(input())\n",
    "x=0\n",
    "y=0\n",
    "d={}\n",
    "for i in range(n):\n",
    "    direct=input()\n",
    "    steps=int(input())\n",
    "    d.update({direct : steps})\n",
    "for direct in d:\n",
    "    if(direct=='up'):\n",
    "        y=y+d.get('up')\n",
    "    if(direct=='down'):\n",
    "        y=y-d.get('down')\n",
    "    if(direct=='right'):\n",
    "        x=x+d.get('right')\n",
    "    if(direct=='left'):\n",
    "        x=x-d.get('left')\n",
    "dis=math.sqrt(x*x + y*y)\n",
    "print(round(dis))"
   ]
  },
  {
   "cell_type": "code",
   "execution_count": null,
   "metadata": {},
   "outputs": [],
   "source": []
  }
 ],
 "metadata": {
  "kernelspec": {
   "display_name": "Python 3",
   "language": "python",
   "name": "python3"
  },
  "language_info": {
   "codemirror_mode": {
    "name": "ipython",
    "version": 3
   },
   "file_extension": ".py",
   "mimetype": "text/x-python",
   "name": "python",
   "nbconvert_exporter": "python",
   "pygments_lexer": "ipython3",
   "version": "3.7.6"
  }
 },
 "nbformat": 4,
 "nbformat_minor": 4
}
